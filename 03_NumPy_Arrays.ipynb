{
  "nbformat": 4,
  "nbformat_minor": 0,
  "metadata": {
    "colab": {
      "name": "01-NumPy Arrays.ipynb",
      "version": "0.3.2",
      "provenance": [],
      "include_colab_link": true
    },
    "kernelspec": {
      "display_name": "Python 3",
      "language": "python",
      "name": "python3"
    }
  },
  "cells": [
    {
      "cell_type": "markdown",
      "metadata": {
        "id": "view-in-github",
        "colab_type": "text"
      },
      "source": [
        "<a href=\"https://colab.research.google.com/github/annLiu310/python-basic/blob/master/03_NumPy_Arrays.ipynb\" target=\"_parent\"><img src=\"https://colab.research.google.com/assets/colab-badge.svg\" alt=\"Open In Colab\"/></a>"
      ]
    },
    {
      "metadata": {
        "id": "dbpM7caN4its",
        "colab_type": "text"
      },
      "cell_type": "markdown",
      "source": [
        "___\n",
        "\n",
        "<a href='http://www.pieriandata.com'> <img src='../Pierian_Data_Logo.png' /></a>\n",
        "___"
      ]
    },
    {
      "metadata": {
        "id": "ssrKAoMR4itv",
        "colab_type": "text"
      },
      "cell_type": "markdown",
      "source": [
        "# NumPy \n",
        "\n",
        "NumPy (or Numpy) is a Linear Algebra Library for Python, the reason it is so important for Data Science with Python is that almost all of the libraries in the PyData Ecosystem rely on NumPy as one of their main building blocks.\n",
        "\n",
        "Numpy is also incredibly fast, as it has bindings to C libraries.  "
      ]
    },
    {
      "metadata": {
        "id": "zF0nmKQ44itz",
        "colab_type": "code",
        "colab": {}
      },
      "cell_type": "code",
      "source": [
        "\n",
        " #Using Numpy\n",
        "import numpy as np"
      ],
      "execution_count": 0,
      "outputs": []
    },
    {
      "metadata": {
        "id": "6GRol-pk4it6",
        "colab_type": "text"
      },
      "cell_type": "markdown",
      "source": [
        "Numpy has many built-in functions and capabilities. We won't cover them all but instead we will focus on some of the most important aspects of Numpy: vectors,arrays,matrices, and number generation. \n",
        "\n",
        "# Numpy Arrays\n",
        "\n",
        "\n",
        "## Creating NumPy Arrays\n",
        "\n",
        "### From a Python List\n",
        "\n",
        "We can create an array by directly converting a list or list of lists:"
      ]
    },
    {
      "metadata": {
        "id": "kagbh_ve4it7",
        "colab_type": "code",
        "colab": {
          "base_uri": "https://localhost:8080/",
          "height": 161
        },
        "outputId": "19c1cfb9-677e-4be4-cdb3-71d7a7091d5a"
      },
      "cell_type": "code",
      "source": [
        "import numpy as np\n",
        "list_numpy = list(range(1,4))\n",
        "print(list_numpy)\n",
        "\n",
        "# cast a list to array\n",
        "array_list = np.array(list_Numpy)\n",
        "print(array_list)\n",
        "\n",
        "matrix_numpy = [[1,2,3],[4,5,6],[7,8,9]]\n",
        "array_matrix = np.array(matrix_numpy)\n",
        "print(array_matrix)\n",
        "array_matrix"
      ],
      "execution_count": 9,
      "outputs": [
        {
          "output_type": "stream",
          "text": [
            "[1, 2, 3]\n",
            "[1 2 3]\n",
            "[[1 2 3]\n",
            " [4 5 6]\n",
            " [7 8 9]]\n"
          ],
          "name": "stdout"
        },
        {
          "output_type": "execute_result",
          "data": {
            "text/plain": [
              "array([[1, 2, 3],\n",
              "       [4, 5, 6],\n",
              "       [7, 8, 9]])"
            ]
          },
          "metadata": {
            "tags": []
          },
          "execution_count": 9
        }
      ]
    },
    {
      "metadata": {
        "id": "a19NOoQm4iuV",
        "colab_type": "text"
      },
      "cell_type": "markdown",
      "source": [
        "## Built-in Methods\n",
        "\n",
        "There are lots of built-in ways to generate Arrays"
      ]
    },
    {
      "metadata": {
        "id": "1pjrwU8Z4iuW",
        "colab_type": "text"
      },
      "cell_type": "markdown",
      "source": [
        "### arange      (range)\n",
        "\n",
        "start,  end,  step"
      ]
    },
    {
      "metadata": {
        "id": "N72sR7xa4iuY",
        "colab_type": "code",
        "colab": {},
        "outputId": "42f22d71-6b74-4cef-b4c4-fe1dffc4abca"
      },
      "cell_type": "code",
      "source": [
        "np.arange(0,10)"
      ],
      "execution_count": 0,
      "outputs": [
        {
          "output_type": "execute_result",
          "data": {
            "text/plain": [
              "array([0, 1, 2, 3, 4, 5, 6, 7, 8, 9])"
            ]
          },
          "metadata": {
            "tags": []
          },
          "execution_count": 22
        }
      ]
    },
    {
      "metadata": {
        "id": "q5d6dxR84iug",
        "colab_type": "code",
        "colab": {},
        "outputId": "4658f84e-fb6e-4deb-a3b8-14b6f97f28ff"
      },
      "cell_type": "code",
      "source": [
        "np.arange(0,11,2)"
      ],
      "execution_count": 0,
      "outputs": [
        {
          "output_type": "execute_result",
          "data": {
            "text/plain": [
              "array([ 0,  2,  4,  6,  8, 10])"
            ]
          },
          "metadata": {
            "tags": []
          },
          "execution_count": 23
        }
      ]
    },
    {
      "metadata": {
        "id": "4HNA9QXA4iup",
        "colab_type": "text"
      },
      "cell_type": "markdown",
      "source": [
        "### zeros and ones matrix\n",
        "\n",
        "Generate arrays of zeros or ones"
      ]
    },
    {
      "metadata": {
        "id": "ZEz1lH_l4iur",
        "colab_type": "code",
        "colab": {},
        "outputId": "37964a19-3f08-4570-d959-802b8402e73d"
      },
      "cell_type": "code",
      "source": [
        "# np.zeros(dimension)\n",
        "np.zeros(3)"
      ],
      "execution_count": 0,
      "outputs": [
        {
          "output_type": "execute_result",
          "data": {
            "text/plain": [
              "array([ 0.,  0.,  0.])"
            ]
          },
          "metadata": {
            "tags": []
          },
          "execution_count": 24
        }
      ]
    },
    {
      "metadata": {
        "id": "lhh6AWex4iuy",
        "colab_type": "code",
        "colab": {},
        "outputId": "9ce1b4b4-1042-4899-88e6-87872fba81c2"
      },
      "cell_type": "code",
      "source": [
        "np.zeros((5,5))"
      ],
      "execution_count": 0,
      "outputs": [
        {
          "output_type": "execute_result",
          "data": {
            "text/plain": [
              "array([[ 0.,  0.,  0.,  0.,  0.],\n",
              "       [ 0.,  0.,  0.,  0.,  0.],\n",
              "       [ 0.,  0.,  0.,  0.,  0.],\n",
              "       [ 0.,  0.,  0.,  0.,  0.],\n",
              "       [ 0.,  0.,  0.,  0.,  0.]])"
            ]
          },
          "metadata": {
            "tags": []
          },
          "execution_count": 26
        }
      ]
    },
    {
      "metadata": {
        "id": "hr8ig49p4iu3",
        "colab_type": "code",
        "colab": {},
        "outputId": "0449742f-5362-4dba-ea83-eeb0b5e93d30"
      },
      "cell_type": "code",
      "source": [
        "np.ones(3)"
      ],
      "execution_count": 0,
      "outputs": [
        {
          "output_type": "execute_result",
          "data": {
            "text/plain": [
              "array([ 1.,  1.,  1.])"
            ]
          },
          "metadata": {
            "tags": []
          },
          "execution_count": 27
        }
      ]
    },
    {
      "metadata": {
        "id": "jdLLQQea4iu-",
        "colab_type": "code",
        "colab": {},
        "outputId": "9d90320a-e324-4106-8ab6-7a4cb5ecce5c"
      },
      "cell_type": "code",
      "source": [
        "np.ones((3,3))"
      ],
      "execution_count": 0,
      "outputs": [
        {
          "output_type": "execute_result",
          "data": {
            "text/plain": [
              "array([[ 1.,  1.,  1.],\n",
              "       [ 1.,  1.,  1.],\n",
              "       [ 1.,  1.,  1.]])"
            ]
          },
          "metadata": {
            "tags": []
          },
          "execution_count": 28
        }
      ]
    },
    {
      "metadata": {
        "id": "WPJu0frJ4ivC",
        "colab_type": "text"
      },
      "cell_type": "markdown",
      "source": [
        "### linspace\n",
        "Return evenly spaced numbers over a specified interval."
      ]
    },
    {
      "metadata": {
        "id": "h8yLs6Jo4ivE",
        "colab_type": "code",
        "colab": {
          "base_uri": "https://localhost:8080/",
          "height": 35
        },
        "outputId": "b75025d4-275c-4efe-9c37-eb17ab37ff28"
      },
      "cell_type": "code",
      "source": [
        "\n",
        "#Return evenly spaced numbers over a specified interval.\n",
        "np.linspace(0,10,5)"
      ],
      "execution_count": 13,
      "outputs": [
        {
          "output_type": "execute_result",
          "data": {
            "text/plain": [
              "array([ 0. ,  2.5,  5. ,  7.5, 10. ])"
            ]
          },
          "metadata": {
            "tags": []
          },
          "execution_count": 13
        }
      ]
    },
    {
      "metadata": {
        "id": "pScqWi104ivM",
        "colab_type": "code",
        "colab": {},
        "outputId": "a647999a-ffdc-48c3-d596-3f938ae183c6"
      },
      "cell_type": "code",
      "source": [
        "np.linspace(0,10,50)"
      ],
      "execution_count": 0,
      "outputs": [
        {
          "output_type": "execute_result",
          "data": {
            "text/plain": [
              "array([  0.        ,   0.20408163,   0.40816327,   0.6122449 ,\n",
              "         0.81632653,   1.02040816,   1.2244898 ,   1.42857143,\n",
              "         1.63265306,   1.83673469,   2.04081633,   2.24489796,\n",
              "         2.44897959,   2.65306122,   2.85714286,   3.06122449,\n",
              "         3.26530612,   3.46938776,   3.67346939,   3.87755102,\n",
              "         4.08163265,   4.28571429,   4.48979592,   4.69387755,\n",
              "         4.89795918,   5.10204082,   5.30612245,   5.51020408,\n",
              "         5.71428571,   5.91836735,   6.12244898,   6.32653061,\n",
              "         6.53061224,   6.73469388,   6.93877551,   7.14285714,\n",
              "         7.34693878,   7.55102041,   7.75510204,   7.95918367,\n",
              "         8.16326531,   8.36734694,   8.57142857,   8.7755102 ,\n",
              "         8.97959184,   9.18367347,   9.3877551 ,   9.59183673,\n",
              "         9.79591837,  10.        ])"
            ]
          },
          "metadata": {
            "tags": []
          },
          "execution_count": 31
        }
      ]
    },
    {
      "metadata": {
        "id": "uqbH9Emp4ivT",
        "colab_type": "text"
      },
      "cell_type": "markdown",
      "source": [
        "## eye\n",
        "\n",
        "Creates an identity matrix"
      ]
    },
    {
      "metadata": {
        "id": "r1JlzkUj4ivV",
        "colab_type": "code",
        "colab": {},
        "outputId": "1f6df95a-667f-4ad6-864f-e19fe211790d"
      },
      "cell_type": "code",
      "source": [
        "# Create indentity matrix\n",
        "np.eye(4)"
      ],
      "execution_count": 0,
      "outputs": [
        {
          "output_type": "execute_result",
          "data": {
            "text/plain": [
              "array([[ 1.,  0.,  0.,  0.],\n",
              "       [ 0.,  1.,  0.,  0.],\n",
              "       [ 0.,  0.,  1.,  0.],\n",
              "       [ 0.,  0.,  0.,  1.]])"
            ]
          },
          "metadata": {
            "tags": []
          },
          "execution_count": 37
        }
      ]
    },
    {
      "metadata": {
        "id": "evNc-QMB4ivc",
        "colab_type": "text"
      },
      "cell_type": "markdown",
      "source": [
        "## Random \n",
        "\n",
        "Numpy also has lots of ways to create random number arrays:\n",
        "\n",
        "### rand\n",
        "Create an array of the given shape and populate it with\n",
        "random samples from a uniform distribution\n",
        "over ``[0, 1)``.\n",
        "\n",
        "\n",
        "概率相等, 连续均匀分布\n",
        "\n"
      ]
    },
    {
      "metadata": {
        "id": "KoXPOkPW4ive",
        "colab_type": "code",
        "colab": {
          "base_uri": "https://localhost:8080/",
          "height": 35
        },
        "outputId": "ec52708d-4d44-408a-e3e5-95cc9090cb72"
      },
      "cell_type": "code",
      "source": [
        "np.random.rand(2)"
      ],
      "execution_count": 16,
      "outputs": [
        {
          "output_type": "execute_result",
          "data": {
            "text/plain": [
              "array([0.67575324, 0.57005567])"
            ]
          },
          "metadata": {
            "tags": []
          },
          "execution_count": 16
        }
      ]
    },
    {
      "metadata": {
        "id": "3XJheEe24ivi",
        "colab_type": "code",
        "colab": {
          "base_uri": "https://localhost:8080/",
          "height": 107
        },
        "outputId": "8eabd753-b1cf-44f2-aa58-d1a99cbb31c9"
      },
      "cell_type": "code",
      "source": [
        "np.random.rand(5,5) #tuple "
      ],
      "execution_count": 17,
      "outputs": [
        {
          "output_type": "execute_result",
          "data": {
            "text/plain": [
              "array([[0.32534602, 0.70121865, 0.11017187, 0.07459125, 0.00452218],\n",
              "       [0.98384352, 0.71537754, 0.32656226, 0.9724161 , 0.96169697],\n",
              "       [0.43261309, 0.49570617, 0.26718002, 0.07288036, 0.79306561],\n",
              "       [0.04766489, 0.36297764, 0.14358327, 0.29832013, 0.08893205],\n",
              "       [0.20521645, 0.13987685, 0.33760029, 0.9150385 , 0.41476953]])"
            ]
          },
          "metadata": {
            "tags": []
          },
          "execution_count": 17
        }
      ]
    },
    {
      "metadata": {
        "id": "5fpGOVa_4ivn",
        "colab_type": "text"
      },
      "cell_type": "markdown",
      "source": [
        "### randn\n",
        "\n",
        "Return a sample (or samples) from the \"standard normal\" distribution. Unlike rand which is uniform:\n",
        "\n",
        "正太 高斯分布\n"
      ]
    },
    {
      "metadata": {
        "id": "ugqHqWbi4ivq",
        "colab_type": "code",
        "colab": {
          "base_uri": "https://localhost:8080/",
          "height": 35
        },
        "outputId": "0ce63d7b-25a2-4950-a7c6-69dddbd0d713"
      },
      "cell_type": "code",
      "source": [
        "np.random.randn(2)"
      ],
      "execution_count": 18,
      "outputs": [
        {
          "output_type": "execute_result",
          "data": {
            "text/plain": [
              "array([ 0.39679028, -1.97923203])"
            ]
          },
          "metadata": {
            "tags": []
          },
          "execution_count": 18
        }
      ]
    },
    {
      "metadata": {
        "id": "PbkCzuqD4ivw",
        "colab_type": "code",
        "colab": {
          "base_uri": "https://localhost:8080/",
          "height": 107
        },
        "outputId": "173889c1-ab85-4b0a-b6aa-3255d2abee62"
      },
      "cell_type": "code",
      "source": [
        "np.random.randn(5,5)"
      ],
      "execution_count": 19,
      "outputs": [
        {
          "output_type": "execute_result",
          "data": {
            "text/plain": [
              "array([[ 0.92018844, -0.56368028,  0.20239085,  0.08108795,  0.11143113],\n",
              "       [ 0.3596689 ,  0.3804121 , -0.45852344, -0.03683451, -0.24662691],\n",
              "       [-0.99212148,  0.78516614,  0.15361486,  0.21316189, -0.26414625],\n",
              "       [ 0.65261373,  1.91250654,  0.91843798, -0.55203306, -0.53826332],\n",
              "       [ 0.72252302,  0.79434218, -0.22672881,  0.71741517, -1.46137367]])"
            ]
          },
          "metadata": {
            "tags": []
          },
          "execution_count": 19
        }
      ]
    },
    {
      "metadata": {
        "id": "FYbvAOZd4ivz",
        "colab_type": "text"
      },
      "cell_type": "markdown",
      "source": [
        "### randint\n",
        "Return random integers from `low` (inclusive) to `high` (exclusive)."
      ]
    },
    {
      "metadata": {
        "id": "REP7XqjW4iv3",
        "colab_type": "code",
        "colab": {
          "base_uri": "https://localhost:8080/",
          "height": 35
        },
        "outputId": "8aa904d6-170f-4d5c-e660-ec65fed20dd8"
      },
      "cell_type": "code",
      "source": [
        "np.random.randint(1,100)"
      ],
      "execution_count": 20,
      "outputs": [
        {
          "output_type": "execute_result",
          "data": {
            "text/plain": [
              "23"
            ]
          },
          "metadata": {
            "tags": []
          },
          "execution_count": 20
        }
      ]
    },
    {
      "metadata": {
        "id": "UeN9Cbkx4iv9",
        "colab_type": "code",
        "colab": {},
        "outputId": "04b8e3c6-d2fc-4f0e-9bc0-c81481872a86"
      },
      "cell_type": "code",
      "source": [
        "np.random.randint(1,100,10)"
      ],
      "execution_count": 0,
      "outputs": [
        {
          "output_type": "execute_result",
          "data": {
            "text/plain": [
              "array([13, 64, 27, 63, 46, 68, 92, 10, 58, 24])"
            ]
          },
          "metadata": {
            "tags": []
          },
          "execution_count": 51
        }
      ]
    },
    {
      "metadata": {
        "id": "l-WYEzvk4iwB",
        "colab_type": "text"
      },
      "cell_type": "markdown",
      "source": [
        "## Array Attributes and Methods"
      ]
    },
    {
      "metadata": {
        "id": "49zmk4O14iwE",
        "colab_type": "code",
        "colab": {}
      },
      "cell_type": "code",
      "source": [
        "arr = np.arange(25)\n",
        "ranarr = np.random.randint(0,50,10)"
      ],
      "execution_count": 0,
      "outputs": []
    },
    {
      "metadata": {
        "id": "FJwd3hiY4iwL",
        "colab_type": "code",
        "colab": {
          "base_uri": "https://localhost:8080/",
          "height": 53
        },
        "outputId": "4e03fc7b-4461-4575-9d62-ee3fa725ddbe"
      },
      "cell_type": "code",
      "source": [
        "arr"
      ],
      "execution_count": 23,
      "outputs": [
        {
          "output_type": "execute_result",
          "data": {
            "text/plain": [
              "array([ 0,  1,  2,  3,  4,  5,  6,  7,  8,  9, 10, 11, 12, 13, 14, 15, 16,\n",
              "       17, 18, 19, 20, 21, 22, 23, 24])"
            ]
          },
          "metadata": {
            "tags": []
          },
          "execution_count": 23
        }
      ]
    },
    {
      "metadata": {
        "id": "8TYh8qLL4iwQ",
        "colab_type": "code",
        "colab": {
          "base_uri": "https://localhost:8080/",
          "height": 35
        },
        "outputId": "d4b2dd06-a13b-403d-ead7-0263d554c487"
      },
      "cell_type": "code",
      "source": [
        "ranarr"
      ],
      "execution_count": 24,
      "outputs": [
        {
          "output_type": "execute_result",
          "data": {
            "text/plain": [
              "array([31, 32,  0,  0, 30, 46, 48, 32, 18, 41])"
            ]
          },
          "metadata": {
            "tags": []
          },
          "execution_count": 24
        }
      ]
    },
    {
      "metadata": {
        "id": "dwjS6Na_4iwT",
        "colab_type": "text"
      },
      "cell_type": "markdown",
      "source": [
        "## Reshape\n",
        "Returns an array containing the same data with a new shape."
      ]
    },
    {
      "metadata": {
        "id": "9aZggtfb4iwU",
        "colab_type": "code",
        "colab": {
          "base_uri": "https://localhost:8080/",
          "height": 107
        },
        "outputId": "d2f19b94-2e6e-48a0-c9a7-c331a591284b"
      },
      "cell_type": "code",
      "source": [
        "arr.reshape(5,5)"
      ],
      "execution_count": 26,
      "outputs": [
        {
          "output_type": "execute_result",
          "data": {
            "text/plain": [
              "array([[ 0,  1,  2,  3,  4],\n",
              "       [ 5,  6,  7,  8,  9],\n",
              "       [10, 11, 12, 13, 14],\n",
              "       [15, 16, 17, 18, 19],\n",
              "       [20, 21, 22, 23, 24]])"
            ]
          },
          "metadata": {
            "tags": []
          },
          "execution_count": 26
        }
      ]
    },
    {
      "metadata": {
        "id": "-PlVK_2q4iwY",
        "colab_type": "text"
      },
      "cell_type": "markdown",
      "source": [
        "### max,min,argmax,argmin\n",
        "\n",
        "These are useful methods for finding max or min values. Or to find their index locations using argmin or argmax"
      ]
    },
    {
      "metadata": {
        "id": "RbAA3YxG4iwa",
        "colab_type": "code",
        "colab": {
          "base_uri": "https://localhost:8080/",
          "height": 35
        },
        "outputId": "2262f53e-8238-4786-8f5e-09c3dc6e2812"
      },
      "cell_type": "code",
      "source": [
        "ranarr"
      ],
      "execution_count": 27,
      "outputs": [
        {
          "output_type": "execute_result",
          "data": {
            "text/plain": [
              "array([31, 32,  0,  0, 30, 46, 48, 32, 18, 41])"
            ]
          },
          "metadata": {
            "tags": []
          },
          "execution_count": 27
        }
      ]
    },
    {
      "metadata": {
        "id": "W9O5fnNP4iwd",
        "colab_type": "code",
        "colab": {
          "base_uri": "https://localhost:8080/",
          "height": 35
        },
        "outputId": "faf23471-9d5c-4f83-ba52-98895f88c058"
      },
      "cell_type": "code",
      "source": [
        "# max in array\n",
        "ranarr.max()"
      ],
      "execution_count": 28,
      "outputs": [
        {
          "output_type": "execute_result",
          "data": {
            "text/plain": [
              "48"
            ]
          },
          "metadata": {
            "tags": []
          },
          "execution_count": 28
        }
      ]
    },
    {
      "metadata": {
        "id": "JilB_8u24iwh",
        "colab_type": "code",
        "colab": {
          "base_uri": "https://localhost:8080/",
          "height": 35
        },
        "outputId": "617cbdf1-0d6b-4c53-e654-6a832b171fc5"
      },
      "cell_type": "code",
      "source": [
        "# index location of max array\n",
        "ranarr.argmax()"
      ],
      "execution_count": 29,
      "outputs": [
        {
          "output_type": "execute_result",
          "data": {
            "text/plain": [
              "6"
            ]
          },
          "metadata": {
            "tags": []
          },
          "execution_count": 29
        }
      ]
    },
    {
      "metadata": {
        "id": "f8P0L48p4iwl",
        "colab_type": "code",
        "colab": {},
        "outputId": "926b1558-3c4c-4c06-9198-c6b3a9bdf9ed"
      },
      "cell_type": "code",
      "source": [
        "ranarr.min()"
      ],
      "execution_count": 0,
      "outputs": [
        {
          "output_type": "execute_result",
          "data": {
            "text/plain": [
              "2"
            ]
          },
          "metadata": {
            "tags": []
          },
          "execution_count": 63
        }
      ]
    },
    {
      "metadata": {
        "id": "YG8qtBkd4iwp",
        "colab_type": "code",
        "colab": {
          "base_uri": "https://localhost:8080/",
          "height": 35
        },
        "outputId": "881a5201-3534-42ee-b39d-5e76aca1a36a"
      },
      "cell_type": "code",
      "source": [
        "# index location of min array\n",
        "ranarr.argmin() "
      ],
      "execution_count": 32,
      "outputs": [
        {
          "output_type": "execute_result",
          "data": {
            "text/plain": [
              "2"
            ]
          },
          "metadata": {
            "tags": []
          },
          "execution_count": 32
        }
      ]
    },
    {
      "metadata": {
        "id": "cTg5WyWF4iwx",
        "colab_type": "text"
      },
      "cell_type": "markdown",
      "source": [
        "## Shape\n",
        "\n",
        "Shape is an attribute that arrays have (not a method):"
      ]
    },
    {
      "metadata": {
        "id": "Y0xsBFtJ4iwx",
        "colab_type": "code",
        "colab": {
          "base_uri": "https://localhost:8080/",
          "height": 35
        },
        "outputId": "69f7395b-f520-4ac4-f096-68b4e025061e"
      },
      "cell_type": "code",
      "source": [
        "# Vector\n",
        "arr.shape"
      ],
      "execution_count": 33,
      "outputs": [
        {
          "output_type": "execute_result",
          "data": {
            "text/plain": [
              "(25,)"
            ]
          },
          "metadata": {
            "tags": []
          },
          "execution_count": 33
        }
      ]
    },
    {
      "metadata": {
        "id": "ua79ChbI4iw9",
        "colab_type": "code",
        "colab": {},
        "outputId": "cddfca0c-cc82-4aaf-9166-2697aacd9458"
      },
      "cell_type": "code",
      "source": [
        "# Notice the two sets of brackets\n",
        "arr.reshape(1,25)"
      ],
      "execution_count": 0,
      "outputs": [
        {
          "output_type": "execute_result",
          "data": {
            "text/plain": [
              "array([[ 0,  1,  2,  3,  4,  5,  6,  7,  8,  9, 10, 11, 12, 13, 14, 15, 16,\n",
              "        17, 18, 19, 20, 21, 22, 23, 24]])"
            ]
          },
          "metadata": {
            "tags": []
          },
          "execution_count": 66
        }
      ]
    },
    {
      "metadata": {
        "id": "5_zohRwW4ixF",
        "colab_type": "code",
        "colab": {
          "base_uri": "https://localhost:8080/",
          "height": 35
        },
        "outputId": "162f43f9-f86c-4b3c-a6c6-de4b92291605"
      },
      "cell_type": "code",
      "source": [
        "arr.reshape(1,25).shape"
      ],
      "execution_count": 34,
      "outputs": [
        {
          "output_type": "execute_result",
          "data": {
            "text/plain": [
              "(1, 25)"
            ]
          },
          "metadata": {
            "tags": []
          },
          "execution_count": 34
        }
      ]
    },
    {
      "metadata": {
        "id": "NYibwdUi4ixN",
        "colab_type": "code",
        "colab": {
          "base_uri": "https://localhost:8080/",
          "height": 467
        },
        "outputId": "05dcf8bf-a948-42f7-b165-9b3678d7bc36"
      },
      "cell_type": "code",
      "source": [
        "arr.reshape(25,1)"
      ],
      "execution_count": 35,
      "outputs": [
        {
          "output_type": "execute_result",
          "data": {
            "text/plain": [
              "array([[ 0],\n",
              "       [ 1],\n",
              "       [ 2],\n",
              "       [ 3],\n",
              "       [ 4],\n",
              "       [ 5],\n",
              "       [ 6],\n",
              "       [ 7],\n",
              "       [ 8],\n",
              "       [ 9],\n",
              "       [10],\n",
              "       [11],\n",
              "       [12],\n",
              "       [13],\n",
              "       [14],\n",
              "       [15],\n",
              "       [16],\n",
              "       [17],\n",
              "       [18],\n",
              "       [19],\n",
              "       [20],\n",
              "       [21],\n",
              "       [22],\n",
              "       [23],\n",
              "       [24]])"
            ]
          },
          "metadata": {
            "tags": []
          },
          "execution_count": 35
        }
      ]
    },
    {
      "metadata": {
        "id": "NpUKynFH4ixS",
        "colab_type": "code",
        "colab": {
          "base_uri": "https://localhost:8080/",
          "height": 35
        },
        "outputId": "bcef4043-a8b6-42de-f347-b1cee587ad7a"
      },
      "cell_type": "code",
      "source": [
        "arr.reshape(25,1).shape"
      ],
      "execution_count": 36,
      "outputs": [
        {
          "output_type": "execute_result",
          "data": {
            "text/plain": [
              "(25, 1)"
            ]
          },
          "metadata": {
            "tags": []
          },
          "execution_count": 36
        }
      ]
    },
    {
      "metadata": {
        "id": "x9qOgMcN4ixW",
        "colab_type": "text"
      },
      "cell_type": "markdown",
      "source": [
        "### dtype\n",
        "\n",
        "  grab the data type of the object in the array:"
      ]
    },
    {
      "metadata": {
        "id": "XKBvGEzE4ixX",
        "colab_type": "code",
        "colab": {},
        "outputId": "f9307b46-3b49-4b68-85dd-2fa6e23cc322"
      },
      "cell_type": "code",
      "source": [
        "arr.dtype"
      ],
      "execution_count": 0,
      "outputs": [
        {
          "output_type": "execute_result",
          "data": {
            "text/plain": [
              "dtype('int64')"
            ]
          },
          "metadata": {
            "tags": []
          },
          "execution_count": 75
        }
      ]
    }
  ]
}