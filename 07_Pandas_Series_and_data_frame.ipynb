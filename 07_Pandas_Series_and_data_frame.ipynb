{
  "nbformat": 4,
  "nbformat_minor": 0,
  "metadata": {
    "colab": {
      "name": "07-Pandas Series and data frame.ipynb",
      "version": "0.3.2",
      "provenance": [],
      "collapsed_sections": [],
      "include_colab_link": true
    },
    "kernelspec": {
      "display_name": "Python 3",
      "language": "python",
      "name": "python3"
    }
  },
  "cells": [
    {
      "cell_type": "markdown",
      "metadata": {
        "id": "view-in-github",
        "colab_type": "text"
      },
      "source": [
        "<a href=\"https://colab.research.google.com/github/annLiu310/python-basic/blob/master/07_Pandas_Series_and_data_frame.ipynb\" target=\"_parent\"><img src=\"https://colab.research.google.com/assets/colab-badge.svg\" alt=\"Open In Colab\"/></a>"
      ]
    },
    {
      "metadata": {
        "id": "oUZyDY94eG--",
        "colab_type": "text"
      },
      "cell_type": "markdown",
      "source": [
        "\n",
        "# Series"
      ]
    },
    {
      "metadata": {
        "id": "08OSGvzNeG_A",
        "colab_type": "text"
      },
      "cell_type": "markdown",
      "source": [
        "The first main data type we will learn about for pandas is the Series data type. Let's import Pandas and explore the Series object.\n",
        "\n",
        "A Series is very similar to a NumPy array (in fact it is built on top of the NumPy array object). \n",
        "\n",
        "What differentiates the NumPy array from a Series, is that a Series can have axis labels, meaning it can be indexed by a label, instead of just a number location. It also doesn't need to hold numeric data, it can hold any arbitrary Python Object.\n",
        "\n",
        "Let's explore this concept through some examples:"
      ]
    },
    {
      "metadata": {
        "id": "pBGBSMDteG_C",
        "colab_type": "code",
        "colab": {}
      },
      "cell_type": "code",
      "source": [
        "import numpy as np\n",
        "import pandas as pd"
      ],
      "execution_count": 0,
      "outputs": []
    },
    {
      "metadata": {
        "id": "ikXiOKh3eG_I",
        "colab_type": "text"
      },
      "cell_type": "markdown",
      "source": [
        "### Creating a Series\n",
        "\n",
        "convert a list,numpy array, or dictionary to a Series:"
      ]
    },
    {
      "metadata": {
        "id": "VdVV1TLQeG_J",
        "colab_type": "code",
        "colab": {}
      },
      "cell_type": "code",
      "source": [
        "labels = ['a','b','c']\n",
        "my_list = [10,20,30]\n",
        "\n",
        "#numpy array\n",
        "arr = np.array([10,20,30])\n",
        "\n",
        "#dic\n",
        "d = {'a':10,'b':20,'c':30}"
      ],
      "execution_count": 0,
      "outputs": []
    },
    {
      "metadata": {
        "id": "q0SnfYNZeG_O",
        "colab_type": "text"
      },
      "cell_type": "markdown",
      "source": [
        "** Using Lists**"
      ]
    },
    {
      "metadata": {
        "id": "Weo1OKd_eG_P",
        "colab_type": "code",
        "colab": {
          "base_uri": "https://localhost:8080/",
          "height": 89
        },
        "outputId": "7673d601-3ddb-4f92-a45b-26780bfb366d"
      },
      "cell_type": "code",
      "source": [
        "pd.Series(data=labels)\n",
        "pd.Series(data=my_list)"
      ],
      "execution_count": 14,
      "outputs": [
        {
          "output_type": "execute_result",
          "data": {
            "text/plain": [
              "0    10\n",
              "1    20\n",
              "2    30\n",
              "dtype: int64"
            ]
          },
          "metadata": {
            "tags": []
          },
          "execution_count": 14
        }
      ]
    },
    {
      "metadata": {
        "id": "_XIJJzpWeG_Z",
        "colab_type": "code",
        "colab": {
          "base_uri": "https://localhost:8080/",
          "height": 89
        },
        "outputId": "25d87f74-5e52-46c2-a883-3544d4a89ad7"
      },
      "cell_type": "code",
      "source": [
        "# init series from two list\n",
        "pd.Series(data=my_list,index=labels)"
      ],
      "execution_count": 6,
      "outputs": [
        {
          "output_type": "execute_result",
          "data": {
            "text/plain": [
              "a    10\n",
              "b    20\n",
              "c    30\n",
              "dtype: int64"
            ]
          },
          "metadata": {
            "tags": []
          },
          "execution_count": 6
        }
      ]
    },
    {
      "metadata": {
        "id": "-m5TN15PeG_g",
        "colab_type": "code",
        "colab": {
          "base_uri": "https://localhost:8080/",
          "height": 89
        },
        "outputId": "7e1042cd-a5f6-43b9-a317-fdb5365ed568"
      },
      "cell_type": "code",
      "source": [
        "#quick init\n",
        "pd.Series(my_list,labels)"
      ],
      "execution_count": 9,
      "outputs": [
        {
          "output_type": "execute_result",
          "data": {
            "text/plain": [
              "a    10\n",
              "b    20\n",
              "c    30\n",
              "dtype: int64"
            ]
          },
          "metadata": {
            "tags": []
          },
          "execution_count": 9
        }
      ]
    },
    {
      "metadata": {
        "id": "WksntUr2fBbO",
        "colab_type": "code",
        "colab": {
          "base_uri": "https://localhost:8080/",
          "height": 89
        },
        "outputId": "fea73826-f79e-45f7-d99b-11bc3708a8ad"
      },
      "cell_type": "code",
      "source": [
        "pd.Series(arr)\n",
        "pd.Series(arr, labels)"
      ],
      "execution_count": 13,
      "outputs": [
        {
          "output_type": "execute_result",
          "data": {
            "text/plain": [
              "a    10\n",
              "b    20\n",
              "c    30\n",
              "dtype: int64"
            ]
          },
          "metadata": {
            "tags": []
          },
          "execution_count": 13
        }
      ]
    },
    {
      "metadata": {
        "id": "odl77ovbfEIF",
        "colab_type": "code",
        "colab": {
          "base_uri": "https://localhost:8080/",
          "height": 89
        },
        "outputId": "03ce0631-5b6f-4058-fb5f-f793bf17a06a"
      },
      "cell_type": "code",
      "source": [
        "# pass dic, use key as index\n",
        "pd.Series(d)"
      ],
      "execution_count": 11,
      "outputs": [
        {
          "output_type": "execute_result",
          "data": {
            "text/plain": [
              "a    10\n",
              "b    20\n",
              "c    30\n",
              "dtype: int64"
            ]
          },
          "metadata": {
            "tags": []
          },
          "execution_count": 11
        }
      ]
    },
    {
      "metadata": {
        "id": "_2VgtH8aeHAD",
        "colab_type": "text"
      },
      "cell_type": "markdown",
      "source": [
        "### Data in a Series\n",
        "\n",
        "A pandas Series can hold a variety of object types:"
      ]
    },
    {
      "metadata": {
        "id": "C9Y037ggeHAE",
        "colab_type": "code",
        "colab": {
          "base_uri": "https://localhost:8080/",
          "height": 89
        },
        "outputId": "30be6da9-5f87-4197-9cb9-1b5d3def10ea"
      },
      "cell_type": "code",
      "source": [
        "pd.Series(labels)"
      ],
      "execution_count": 16,
      "outputs": [
        {
          "output_type": "execute_result",
          "data": {
            "text/plain": [
              "0    a\n",
              "1    b\n",
              "2    c\n",
              "dtype: object"
            ]
          },
          "metadata": {
            "tags": []
          },
          "execution_count": 16
        }
      ]
    },
    {
      "metadata": {
        "id": "jBr1SHPgeHAO",
        "colab_type": "code",
        "colab": {
          "base_uri": "https://localhost:8080/",
          "height": 89
        },
        "outputId": "f76f84a6-f5b1-4b93-fe00-ee6bb1f3f596"
      },
      "cell_type": "code",
      "source": [
        "# Even functions (never use it...)\n",
        "pd.Series([sum,print,len])"
      ],
      "execution_count": 17,
      "outputs": [
        {
          "output_type": "execute_result",
          "data": {
            "text/plain": [
              "0      <built-in function sum>\n",
              "1    <built-in function print>\n",
              "2      <built-in function len>\n",
              "dtype: object"
            ]
          },
          "metadata": {
            "tags": []
          },
          "execution_count": 17
        }
      ]
    },
    {
      "metadata": {
        "id": "rHI0vvDWeHAU",
        "colab_type": "code",
        "colab": {
          "base_uri": "https://localhost:8080/",
          "height": 107
        },
        "outputId": "e7b4b33f-38b5-4da3-82e8-984a31046a41"
      },
      "cell_type": "code",
      "source": [
        "ser1 = pd.Series([1,2,3,4],index = ['USA', 'Germany','USSR', 'Japan']) \n",
        "ser1"
      ],
      "execution_count": 23,
      "outputs": [
        {
          "output_type": "execute_result",
          "data": {
            "text/plain": [
              "USA        1\n",
              "Germany    2\n",
              "USSR       3\n",
              "Japan      4\n",
              "dtype: int64"
            ]
          },
          "metadata": {
            "tags": []
          },
          "execution_count": 23
        }
      ]
    },
    {
      "metadata": {
        "id": "98y7Isk8eHAm",
        "colab_type": "code",
        "colab": {
          "base_uri": "https://localhost:8080/",
          "height": 107
        },
        "outputId": "8013193c-6838-4424-e467-802a91f45347"
      },
      "cell_type": "code",
      "source": [
        "ser2 = pd.Series([1,2,5,4],index = ['USA', 'Germany','Italy', 'Japan']) \n",
        "ser2"
      ],
      "execution_count": 26,
      "outputs": [
        {
          "output_type": "execute_result",
          "data": {
            "text/plain": [
              "USA        1\n",
              "Germany    2\n",
              "Italy      5\n",
              "Japan      4\n",
              "dtype: int64"
            ]
          },
          "metadata": {
            "tags": []
          },
          "execution_count": 26
        }
      ]
    },
    {
      "metadata": {
        "id": "yZKlfZHCeHA5",
        "colab_type": "code",
        "colab": {
          "base_uri": "https://localhost:8080/",
          "height": 35
        },
        "outputId": "0c543075-ae13-46aa-bb47-d07181c505a3"
      },
      "cell_type": "code",
      "source": [
        "ser1['USA']"
      ],
      "execution_count": 27,
      "outputs": [
        {
          "output_type": "execute_result",
          "data": {
            "text/plain": [
              "1"
            ]
          },
          "metadata": {
            "tags": []
          },
          "execution_count": 27
        }
      ]
    },
    {
      "metadata": {
        "collapsed": false,
        "id": "6g9vmqP1eHBA",
        "colab_type": "text"
      },
      "cell_type": "markdown",
      "source": [
        "Operations are then also done based off of index:"
      ]
    },
    {
      "metadata": {
        "id": "XO58gXp9eHBB",
        "colab_type": "code",
        "colab": {
          "base_uri": "https://localhost:8080/",
          "height": 125
        },
        "outputId": "bd5e7ad8-523e-4cd4-e45e-3a802d2f2dbc"
      },
      "cell_type": "code",
      "source": [
        "ser1 + ser2"
      ],
      "execution_count": 28,
      "outputs": [
        {
          "output_type": "execute_result",
          "data": {
            "text/plain": [
              "Germany    4.0\n",
              "Italy      NaN\n",
              "Japan      8.0\n",
              "USA        2.0\n",
              "USSR       NaN\n",
              "dtype: float64"
            ]
          },
          "metadata": {
            "tags": []
          },
          "execution_count": 28
        }
      ]
    }
  ]
}