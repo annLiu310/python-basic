{
  "nbformat": 4,
  "nbformat_minor": 0,
  "metadata": {
    "colab": {
      "name": "01-Python Crash Course.ipynb",
      "version": "0.3.2",
      "provenance": []
    },
    "kernelspec": {
      "display_name": "Python 3",
      "language": "python",
      "name": "python3"
    }
  },
  "cells": [
    {
      "metadata": {
        "id": "v3-q_zuwMZd8",
        "colab_type": "text"
      },
      "cell_type": "markdown",
      "source": [
        "___\n",
        "\n",
        "\n",
        "# Python Basic Usage\n",
        "\n",
        "\n",
        "\n",
        "\n",
        "* Data types\n",
        "    * Numbers\n",
        "    * Strings\n",
        "    * Printing\n",
        "    * Lists\n",
        "    * Dictionaries\n",
        "    * Booleans\n",
        "    * Tuples \n",
        "    * Sets\n",
        "* Comparison Operators\n",
        "* if, elif, else Statements\n",
        "* for Loops\n",
        "* while Loops\n",
        "* range()\n",
        "* list comprehension\n",
        "* functions\n",
        "* lambda expressions\n",
        "* map and filter\n",
        "* methods\n",
        "____"
      ]
    },
    {
      "metadata": {
        "id": "AgFROtA9MZd9",
        "colab_type": "text"
      },
      "cell_type": "markdown",
      "source": [
        "## Data types\n",
        "\n",
        "### Numbers operation\n"
      ]
    },
    {
      "metadata": {
        "id": "gJskHf0yMZd-",
        "colab_type": "code",
        "colab": {
          "base_uri": "https://localhost:8080/",
          "height": 34
        },
        "outputId": "13cee714-d921-4c09-ba60-3f99d7ac3ae1"
      },
      "cell_type": "code",
      "source": [
        "1 + 1"
      ],
      "execution_count": 2,
      "outputs": [
        {
          "output_type": "execute_result",
          "data": {
            "text/plain": [
              "2"
            ]
          },
          "metadata": {
            "tags": []
          },
          "execution_count": 2
        }
      ]
    },
    {
      "metadata": {
        "id": "8gL8JJM5MZeE",
        "colab_type": "code",
        "colab": {
          "base_uri": "https://localhost:8080/",
          "height": 34
        },
        "outputId": "0b611cd2-7c06-432c-c80a-50012dec89aa"
      },
      "cell_type": "code",
      "source": [
        "1 * 3"
      ],
      "execution_count": 3,
      "outputs": [
        {
          "output_type": "execute_result",
          "data": {
            "text/plain": [
              "3"
            ]
          },
          "metadata": {
            "tags": []
          },
          "execution_count": 3
        }
      ]
    },
    {
      "metadata": {
        "id": "iU-F-6rvMZeG",
        "colab_type": "code",
        "colab": {
          "base_uri": "https://localhost:8080/",
          "height": 34
        },
        "outputId": "f18c5d65-a90f-4a64-d49b-52c16c218801"
      },
      "cell_type": "code",
      "source": [
        "1 / 2"
      ],
      "execution_count": 4,
      "outputs": [
        {
          "output_type": "execute_result",
          "data": {
            "text/plain": [
              "0.5"
            ]
          },
          "metadata": {
            "tags": []
          },
          "execution_count": 4
        }
      ]
    },
    {
      "metadata": {
        "id": "wKuobg58MZeK",
        "colab_type": "code",
        "colab": {
          "base_uri": "https://localhost:8080/",
          "height": 34
        },
        "outputId": "2b2c9b95-9e62-484f-cd79-39d92e5500b3"
      },
      "cell_type": "code",
      "source": [
        "#3^2\n",
        "3 ** 2      "
      ],
      "execution_count": 7,
      "outputs": [
        {
          "output_type": "execute_result",
          "data": {
            "text/plain": [
              "9"
            ]
          },
          "metadata": {
            "tags": []
          },
          "execution_count": 7
        }
      ]
    },
    {
      "metadata": {
        "id": "W29Ywb8VMZeM",
        "colab_type": "code",
        "colab": {
          "base_uri": "https://localhost:8080/",
          "height": 34
        },
        "outputId": "381dcff1-e456-4796-babd-a8e01ed49ab7"
      },
      "cell_type": "code",
      "source": [
        "4 % 2"
      ],
      "execution_count": 8,
      "outputs": [
        {
          "output_type": "execute_result",
          "data": {
            "text/plain": [
              "0"
            ]
          },
          "metadata": {
            "tags": []
          },
          "execution_count": 8
        }
      ]
    },
    {
      "metadata": {
        "id": "BwRR0bp-MZeQ",
        "colab_type": "code",
        "colab": {
          "base_uri": "https://localhost:8080/",
          "height": 34
        },
        "outputId": "8fbc1f79-609b-4454-f6bf-9fa3376f8c26"
      },
      "cell_type": "code",
      "source": [
        "5 % 2"
      ],
      "execution_count": 10,
      "outputs": [
        {
          "output_type": "execute_result",
          "data": {
            "text/plain": [
              "1"
            ]
          },
          "metadata": {
            "tags": []
          },
          "execution_count": 10
        }
      ]
    },
    {
      "metadata": {
        "id": "JGLnZ7rFMZeT",
        "colab_type": "code",
        "colab": {},
        "outputId": "e0e5aad7-730f-478e-b6f3-934fbd58300d"
      },
      "cell_type": "code",
      "source": [
        "(2 + 3) * (5 + 5)"
      ],
      "execution_count": 0,
      "outputs": [
        {
          "output_type": "execute_result",
          "data": {
            "text/plain": [
              "50"
            ]
          },
          "metadata": {
            "tags": []
          },
          "execution_count": 12
        }
      ]
    },
    {
      "metadata": {
        "id": "2cNX1VPLMZeZ",
        "colab_type": "text"
      },
      "cell_type": "markdown",
      "source": [
        "### Variable Assignment"
      ]
    },
    {
      "metadata": {
        "id": "SGv_nhDUMZeZ",
        "colab_type": "code",
        "colab": {}
      },
      "cell_type": "code",
      "source": [
        "#Start with letter.  Can not start with number or special characters\n",
        "name_of_var = 2"
      ],
      "execution_count": 0,
      "outputs": []
    },
    {
      "metadata": {
        "id": "-sivkNZjMZeb",
        "colab_type": "code",
        "colab": {}
      },
      "cell_type": "code",
      "source": [
        "x = 2\n",
        "y = 3"
      ],
      "execution_count": 0,
      "outputs": []
    },
    {
      "metadata": {
        "id": "JqrECuChMZee",
        "colab_type": "code",
        "colab": {}
      },
      "cell_type": "code",
      "source": [
        "z = x + y"
      ],
      "execution_count": 0,
      "outputs": []
    },
    {
      "metadata": {
        "id": "EHnpFxoZMZeg",
        "colab_type": "code",
        "colab": {
          "base_uri": "https://localhost:8080/",
          "height": 34
        },
        "outputId": "73fc2acf-23db-42e3-ee8a-259fa98b3ed9"
      },
      "cell_type": "code",
      "source": [
        "print(z)"
      ],
      "execution_count": 18,
      "outputs": [
        {
          "output_type": "stream",
          "text": [
            "5\n"
          ],
          "name": "stdout"
        }
      ]
    },
    {
      "metadata": {
        "id": "2Fp8LM9XNUaB",
        "colab_type": "code",
        "colab": {
          "base_uri": "https://localhost:8080/",
          "height": 34
        },
        "outputId": "9307df3f-f303-409a-ec29-8b1cd15ebbb0"
      },
      "cell_type": "code",
      "source": [
        "z"
      ],
      "execution_count": 19,
      "outputs": [
        {
          "output_type": "execute_result",
          "data": {
            "text/plain": [
              "5"
            ]
          },
          "metadata": {
            "tags": []
          },
          "execution_count": 19
        }
      ]
    },
    {
      "metadata": {
        "id": "F0U5GY51MZej",
        "colab_type": "text"
      },
      "cell_type": "markdown",
      "source": [
        "### Strings and Printing\n"
      ]
    },
    {
      "metadata": {
        "id": "KKxnGfnVMZej",
        "colab_type": "code",
        "colab": {
          "base_uri": "https://localhost:8080/",
          "height": 34
        },
        "outputId": "ad0beda3-eada-4234-f79f-e9ef10839633"
      },
      "cell_type": "code",
      "source": [
        "' single quotes'"
      ],
      "execution_count": 2,
      "outputs": [
        {
          "output_type": "execute_result",
          "data": {
            "text/plain": [
              "' single quotes'"
            ]
          },
          "metadata": {
            "tags": []
          },
          "execution_count": 2
        }
      ]
    },
    {
      "metadata": {
        "id": "WcJZxoxzMZev",
        "colab_type": "code",
        "colab": {}
      },
      "cell_type": "code",
      "source": [
        "x = 'hello'"
      ],
      "execution_count": 0,
      "outputs": []
    },
    {
      "metadata": {
        "id": "bgJnjpt2rN1I",
        "colab_type": "code",
        "colab": {
          "base_uri": "https://localhost:8080/",
          "height": 34
        },
        "outputId": "1e327b3a-d525-4f86-8933-3200e15e38d1"
      },
      "cell_type": "code",
      "source": [
        "# single quote in double quotes\n",
        "\"he's a \""
      ],
      "execution_count": 4,
      "outputs": [
        {
          "output_type": "execute_result",
          "data": {
            "text/plain": [
              "\"he's a \""
            ]
          },
          "metadata": {
            "tags": []
          },
          "execution_count": 4
        }
      ]
    },
    {
      "metadata": {
        "id": "BqCy_TL9MZe3",
        "colab_type": "code",
        "colab": {
          "base_uri": "https://localhost:8080/",
          "height": 51
        },
        "outputId": "f49ce41c-ea82-4bb8-ccbe-7ae1e391db92"
      },
      "cell_type": "code",
      "source": [
        "num = 16\n",
        "name = 'Ann'\n",
        "print(name)\n",
        "name[0]"
      ],
      "execution_count": 6,
      "outputs": [
        {
          "output_type": "stream",
          "text": [
            "Ann\n"
          ],
          "name": "stdout"
        },
        {
          "output_type": "execute_result",
          "data": {
            "text/plain": [
              "'A'"
            ]
          },
          "metadata": {
            "tags": []
          },
          "execution_count": 6
        }
      ]
    },
    {
      "metadata": {
        "id": "WQBAf2sGOEUL",
        "colab_type": "code",
        "colab": {
          "base_uri": "https://localhost:8080/",
          "height": 34
        },
        "outputId": "283438cc-0b4b-428c-e356-eb95dbf2cb97"
      },
      "cell_type": "code",
      "source": [
        "print('{num}-------{name}')    # error"
      ],
      "execution_count": 30,
      "outputs": [
        {
          "output_type": "stream",
          "text": [
            "{num}-------{name}\n"
          ],
          "name": "stdout"
        }
      ]
    },
    {
      "metadata": {
        "id": "MRaSGTBcOWgo",
        "colab_type": "code",
        "colab": {
          "base_uri": "https://localhost:8080/",
          "height": 34
        },
        "outputId": "a033168a-8d7f-4e6d-bf29-d5be92d41c14"
      },
      "cell_type": "code",
      "source": [
        "print('{s1}------{s2}'.format(s1=num,s2=name))"
      ],
      "execution_count": 31,
      "outputs": [
        {
          "output_type": "stream",
          "text": [
            "16------Ann\n"
          ],
          "name": "stdout"
        }
      ]
    },
    {
      "metadata": {
        "id": "2K916DaAMZe7",
        "colab_type": "code",
        "colab": {
          "base_uri": "https://localhost:8080/",
          "height": 34
        },
        "outputId": "1c5dc0d1-e572-492c-82cd-75e50bf9d4f3"
      },
      "cell_type": "code",
      "source": [
        "print('{}---------------{}'.format(num,name))"
      ],
      "execution_count": 32,
      "outputs": [
        {
          "output_type": "stream",
          "text": [
            "16---------------Ann\n"
          ],
          "name": "stdout"
        }
      ]
    },
    {
      "metadata": {
        "id": "dXgKniYSMZe9",
        "colab_type": "text"
      },
      "cell_type": "markdown",
      "source": [
        "### Lists"
      ]
    },
    {
      "metadata": {
        "id": "CFdgVBp6MZe-",
        "colab_type": "code",
        "colab": {
          "base_uri": "https://localhost:8080/",
          "height": 34
        },
        "outputId": "fc91ba96-453e-49ea-8f1a-4795fbba8a29"
      },
      "cell_type": "code",
      "source": [
        "[1,2,3]"
      ],
      "execution_count": 34,
      "outputs": [
        {
          "output_type": "execute_result",
          "data": {
            "text/plain": [
              "[1, 2, 3]"
            ]
          },
          "metadata": {
            "tags": []
          },
          "execution_count": 34
        }
      ]
    },
    {
      "metadata": {
        "id": "SX6gqYT8MZfC",
        "colab_type": "code",
        "colab": {
          "base_uri": "https://localhost:8080/",
          "height": 34
        },
        "outputId": "3b7ba647-fa73-446c-9c98-53d987900ace"
      },
      "cell_type": "code",
      "source": [
        "['hi',1,[1,2]]"
      ],
      "execution_count": 35,
      "outputs": [
        {
          "output_type": "execute_result",
          "data": {
            "text/plain": [
              "['hi', 1, [1, 2]]"
            ]
          },
          "metadata": {
            "tags": []
          },
          "execution_count": 35
        }
      ]
    },
    {
      "metadata": {
        "id": "r4xXuOtoMZfE",
        "colab_type": "code",
        "colab": {}
      },
      "cell_type": "code",
      "source": [
        "my_list = ['a','b','c']"
      ],
      "execution_count": 0,
      "outputs": []
    },
    {
      "metadata": {
        "id": "-MUiwMu3MZfI",
        "colab_type": "code",
        "colab": {}
      },
      "cell_type": "code",
      "source": [
        "# add element to a list\n",
        "my_list.append('d')    \n",
        "my_list.append('e')    "
      ],
      "execution_count": 0,
      "outputs": []
    },
    {
      "metadata": {
        "id": "-eal24p_MZfL",
        "colab_type": "code",
        "colab": {
          "base_uri": "https://localhost:8080/",
          "height": 34
        },
        "outputId": "b4a9e7a4-2716-4ac0-e4ca-1b8c084614b4"
      },
      "cell_type": "code",
      "source": [
        "my_list"
      ],
      "execution_count": 45,
      "outputs": [
        {
          "output_type": "execute_result",
          "data": {
            "text/plain": [
              "['a', 'b', 'c', 'd', 'e']"
            ]
          },
          "metadata": {
            "tags": []
          },
          "execution_count": 45
        }
      ]
    },
    {
      "metadata": {
        "id": "wUypu0HtMZfO",
        "colab_type": "code",
        "colab": {
          "base_uri": "https://localhost:8080/",
          "height": 34
        },
        "outputId": "b52bd574-da8a-4f0e-9dc2-300d7173ecf2"
      },
      "cell_type": "code",
      "source": [
        "my_list[0]"
      ],
      "execution_count": 48,
      "outputs": [
        {
          "output_type": "execute_result",
          "data": {
            "text/plain": [
              "'a'"
            ]
          },
          "metadata": {
            "tags": []
          },
          "execution_count": 48
        }
      ]
    },
    {
      "metadata": {
        "id": "Ttp0dQsyMZfb",
        "colab_type": "code",
        "colab": {
          "base_uri": "https://localhost:8080/",
          "height": 34
        },
        "outputId": "fea28afe-80a8-4ed1-d982-91f8eeb39f57"
      },
      "cell_type": "code",
      "source": [
        "# print element after index_1 (included index_1)\n",
        "my_list[1:]"
      ],
      "execution_count": 50,
      "outputs": [
        {
          "output_type": "execute_result",
          "data": {
            "text/plain": [
              "['b', 'c', 'd', 'e']"
            ]
          },
          "metadata": {
            "tags": []
          },
          "execution_count": 50
        }
      ]
    },
    {
      "metadata": {
        "id": "ixSmoT0KMZfe",
        "colab_type": "code",
        "colab": {
          "base_uri": "https://localhost:8080/",
          "height": 34
        },
        "outputId": "128c6c57-5fd2-4062-a6dd-2eec1ae0c9d2"
      },
      "cell_type": "code",
      "source": [
        "# print element before index_1 (not index_1)\n",
        "my_list[:1]"
      ],
      "execution_count": 51,
      "outputs": [
        {
          "output_type": "execute_result",
          "data": {
            "text/plain": [
              "['a']"
            ]
          },
          "metadata": {
            "tags": []
          },
          "execution_count": 51
        }
      ]
    },
    {
      "metadata": {
        "id": "Mz-oB3MqMZfh",
        "colab_type": "code",
        "colab": {}
      },
      "cell_type": "code",
      "source": [
        "my_list[0] = 'NEW'"
      ],
      "execution_count": 0,
      "outputs": []
    },
    {
      "metadata": {
        "id": "GhxqfqJwMZfi",
        "colab_type": "code",
        "colab": {
          "base_uri": "https://localhost:8080/",
          "height": 34
        },
        "outputId": "06020d8f-3a81-4d67-89f0-cbb83acefcae"
      },
      "cell_type": "code",
      "source": [
        "my_list"
      ],
      "execution_count": 55,
      "outputs": [
        {
          "output_type": "execute_result",
          "data": {
            "text/plain": [
              "['NEW', 'b', 'c', 'd', 'e']"
            ]
          },
          "metadata": {
            "tags": []
          },
          "execution_count": 55
        }
      ]
    },
    {
      "metadata": {
        "id": "rpZghL_0MZfk",
        "colab_type": "code",
        "colab": {}
      },
      "cell_type": "code",
      "source": [
        "nest = [1,2,3,[4,5,['target','target2']]]"
      ],
      "execution_count": 0,
      "outputs": []
    },
    {
      "metadata": {
        "id": "Jd3P3zhaMZfn",
        "colab_type": "code",
        "colab": {
          "base_uri": "https://localhost:8080/",
          "height": 34
        },
        "outputId": "5f41f653-34a5-4cf6-ccec-06917867e0d7"
      },
      "cell_type": "code",
      "source": [
        "nest[3]"
      ],
      "execution_count": 62,
      "outputs": [
        {
          "output_type": "execute_result",
          "data": {
            "text/plain": [
              "[4, 5, ['target', 'target2']]"
            ]
          },
          "metadata": {
            "tags": []
          },
          "execution_count": 62
        }
      ]
    },
    {
      "metadata": {
        "id": "jrh0_GoPMZfp",
        "colab_type": "code",
        "colab": {
          "base_uri": "https://localhost:8080/",
          "height": 34
        },
        "outputId": "222a0d25-f077-458f-eff9-6f66c15362a2"
      },
      "cell_type": "code",
      "source": [
        "nest[3][2]"
      ],
      "execution_count": 63,
      "outputs": [
        {
          "output_type": "execute_result",
          "data": {
            "text/plain": [
              "['target', 'target2']"
            ]
          },
          "metadata": {
            "tags": []
          },
          "execution_count": 63
        }
      ]
    },
    {
      "metadata": {
        "id": "MQLiGnQ-MZfr",
        "colab_type": "code",
        "colab": {
          "base_uri": "https://localhost:8080/",
          "height": 34
        },
        "outputId": "1dc364c1-a9c1-4dd1-ed75-c7e9b0ba1ffc"
      },
      "cell_type": "code",
      "source": [
        "nest[3][2][1]"
      ],
      "execution_count": 65,
      "outputs": [
        {
          "output_type": "execute_result",
          "data": {
            "text/plain": [
              "'target2'"
            ]
          },
          "metadata": {
            "tags": []
          },
          "execution_count": 65
        }
      ]
    },
    {
      "metadata": {
        "id": "7se8M1eXMZfv",
        "colab_type": "text"
      },
      "cell_type": "markdown",
      "source": [
        "\n",
        " \n",
        "### Dictionaries\n",
        "\n",
        "no any order\n"
      ]
    },
    {
      "metadata": {
        "id": "0PNvR-nPMZfv",
        "colab_type": "code",
        "colab": {}
      },
      "cell_type": "code",
      "source": [
        "d = {'k1':'item1','k2':'item2'}"
      ],
      "execution_count": 0,
      "outputs": []
    },
    {
      "metadata": {
        "id": "WqKW1SadMZfy",
        "colab_type": "code",
        "colab": {
          "base_uri": "https://localhost:8080/",
          "height": 34
        },
        "outputId": "45090f22-79fb-4c5b-d64b-c59c7fb9c455"
      },
      "cell_type": "code",
      "source": [
        "d"
      ],
      "execution_count": 9,
      "outputs": [
        {
          "output_type": "execute_result",
          "data": {
            "text/plain": [
              "{'1': 'item1', '2': 'item2'}"
            ]
          },
          "metadata": {
            "tags": []
          },
          "execution_count": 9
        }
      ]
    },
    {
      "metadata": {
        "id": "eM821FWRMZf0",
        "colab_type": "code",
        "colab": {
          "base_uri": "https://localhost:8080/",
          "height": 34
        },
        "outputId": "85c60cb2-a48b-4556-e6d8-48a004076427"
      },
      "cell_type": "code",
      "source": [
        "d['k1']"
      ],
      "execution_count": 11,
      "outputs": [
        {
          "output_type": "execute_result",
          "data": {
            "text/plain": [
              "'item1'"
            ]
          },
          "metadata": {
            "tags": []
          },
          "execution_count": 11
        }
      ]
    },
    {
      "metadata": {
        "id": "rp6DaBxpvIu8",
        "colab_type": "code",
        "colab": {
          "base_uri": "https://localhost:8080/",
          "height": 34
        },
        "outputId": "65647b8b-860d-4849-83e2-4d059b246648"
      },
      "cell_type": "code",
      "source": [
        "dic2 =  {'k1':'item1','k2':list(range(5))}\n",
        "dic2['k2']"
      ],
      "execution_count": 19,
      "outputs": [
        {
          "output_type": "execute_result",
          "data": {
            "text/plain": [
              "[0, 1, 2, 3, 4]"
            ]
          },
          "metadata": {
            "tags": []
          },
          "execution_count": 19
        }
      ]
    },
    {
      "metadata": {
        "id": "B0faKeqpwKbh",
        "colab_type": "code",
        "colab": {
          "base_uri": "https://localhost:8080/",
          "height": 51
        },
        "outputId": "dc7c3156-3a65-4d3d-d86b-bf89a669f9e2"
      },
      "cell_type": "code",
      "source": [
        "dic3 =  {'k1':'item1','k2':{'k1':'item1','k2':'item2'}}\n",
        "print(dic3['k2']['k1'])\n",
        "dic3['k2']"
      ],
      "execution_count": 27,
      "outputs": [
        {
          "output_type": "stream",
          "text": [
            "item1\n"
          ],
          "name": "stdout"
        },
        {
          "output_type": "execute_result",
          "data": {
            "text/plain": [
              "{'k1': 'item1', 'k2': 'item2'}"
            ]
          },
          "metadata": {
            "tags": []
          },
          "execution_count": 27
        }
      ]
    },
    {
      "metadata": {
        "id": "MUfiRB5bMZgA",
        "colab_type": "text"
      },
      "cell_type": "markdown",
      "source": [
        "### Tuples \n",
        "\n",
        "'tuple' object does not support item assignment"
      ]
    },
    {
      "metadata": {
        "id": "nFBpCj1ZMZgA",
        "colab_type": "code",
        "colab": {}
      },
      "cell_type": "code",
      "source": [
        "t = (1,2,3)"
      ],
      "execution_count": 0,
      "outputs": []
    },
    {
      "metadata": {
        "id": "bDPNr9RvMZgC",
        "colab_type": "code",
        "colab": {
          "base_uri": "https://localhost:8080/",
          "height": 34
        },
        "outputId": "639338ec-d817-4081-b935-74f223785461"
      },
      "cell_type": "code",
      "source": [
        "t[0]"
      ],
      "execution_count": 23,
      "outputs": [
        {
          "output_type": "execute_result",
          "data": {
            "text/plain": [
              "1"
            ]
          },
          "metadata": {
            "tags": []
          },
          "execution_count": 23
        }
      ]
    },
    {
      "metadata": {
        "id": "GFCb5jYHMZgE",
        "colab_type": "code",
        "colab": {
          "base_uri": "https://localhost:8080/",
          "height": 163
        },
        "outputId": "bf81593a-f7b4-4860-ef7d-b1ce42087496"
      },
      "cell_type": "code",
      "source": [
        "#t[0] = 'NEW' "
      ],
      "execution_count": 24,
      "outputs": [
        {
          "output_type": "error",
          "ename": "TypeError",
          "evalue": "ignored",
          "traceback": [
            "\u001b[0;31m---------------------------------------------------------------------------\u001b[0m",
            "\u001b[0;31mTypeError\u001b[0m                                 Traceback (most recent call last)",
            "\u001b[0;32m<ipython-input-24-93bfe9be1549>\u001b[0m in \u001b[0;36m<module>\u001b[0;34m()\u001b[0m\n\u001b[0;32m----> 1\u001b[0;31m \u001b[0mt\u001b[0m\u001b[0;34m[\u001b[0m\u001b[0;36m0\u001b[0m\u001b[0;34m]\u001b[0m \u001b[0;34m=\u001b[0m \u001b[0;34m'NEW'\u001b[0m\u001b[0;34m\u001b[0m\u001b[0;34m\u001b[0m\u001b[0m\n\u001b[0m",
            "\u001b[0;31mTypeError\u001b[0m: 'tuple' object does not support item assignment"
          ]
        }
      ]
    },
    {
      "metadata": {
        "id": "D_wCO9PLb_j7",
        "colab_type": "code",
        "colab": {}
      },
      "cell_type": "code",
      "source": [
        "list_t = [(1,2,3),(3,4,5),(5,6)]"
      ],
      "execution_count": 0,
      "outputs": []
    },
    {
      "metadata": {
        "id": "0xCS7eqMcJ8x",
        "colab_type": "code",
        "colab": {
          "base_uri": "https://localhost:8080/",
          "height": 163
        },
        "outputId": "8c9504e7-2f06-48e1-8980-d85566ba22fe"
      },
      "cell_type": "code",
      "source": [
        "list_t[2]"
      ],
      "execution_count": 26,
      "outputs": [
        {
          "output_type": "error",
          "ename": "NameError",
          "evalue": "ignored",
          "traceback": [
            "\u001b[0;31m---------------------------------------------------------------------------\u001b[0m",
            "\u001b[0;31mNameError\u001b[0m                                 Traceback (most recent call last)",
            "\u001b[0;32m<ipython-input-26-8c072c3414c3>\u001b[0m in \u001b[0;36m<module>\u001b[0;34m()\u001b[0m\n\u001b[0;32m----> 1\u001b[0;31m \u001b[0mlist_t\u001b[0m\u001b[0;34m[\u001b[0m\u001b[0;36m2\u001b[0m\u001b[0;34m]\u001b[0m\u001b[0;34m\u001b[0m\u001b[0;34m\u001b[0m\u001b[0m\n\u001b[0m",
            "\u001b[0;31mNameError\u001b[0m: name 'list_t' is not defined"
          ]
        }
      ]
    },
    {
      "metadata": {
        "id": "vfUX--dYK2Y2",
        "colab_type": "code",
        "colab": {
          "base_uri": "https://localhost:8080/",
          "height": 204
        },
        "outputId": "180e29fb-b90a-45f3-8967-7b09eec77f39"
      },
      "cell_type": "code",
      "source": [
        "tuple_list = [(1,2),(3,4),(5,6)]\n",
        "\n",
        "for item in tuple_list:\n",
        "  print(item)\n",
        "\n",
        "print('-----------------------')\n",
        "  \n",
        "for (a,b) in tuple_list:\n",
        "  print(a)\n",
        "  \n",
        "  \n",
        "\n",
        "print('-----------------------')\n",
        "  \n",
        "for (a,b) in tuple_list:\n",
        "  print(b)"
      ],
      "execution_count": 35,
      "outputs": [
        {
          "output_type": "stream",
          "text": [
            "(1, 2)\n",
            "(3, 4)\n",
            "(5, 6)\n",
            "-----------------------\n",
            "1\n",
            "3\n",
            "5\n",
            "-----------------------\n",
            "2\n",
            "4\n",
            "6\n"
          ],
          "name": "stdout"
        }
      ]
    },
    {
      "metadata": {
        "id": "D9FwfLeUMZgG",
        "colab_type": "text"
      },
      "cell_type": "markdown",
      "source": [
        "### Sets\n",
        "{}   ----- set    no repeat\n",
        "\n",
        "[]   ----- list\n",
        "\n",
        "()  ----- tuples   does not support item assignment\n"
      ]
    },
    {
      "metadata": {
        "id": "UCjcKrFmMZgH",
        "colab_type": "code",
        "colab": {
          "base_uri": "https://localhost:8080/",
          "height": 34
        },
        "outputId": "20a57675-3ecc-48d3-9e71-f2a9ec39a980"
      },
      "cell_type": "code",
      "source": [
        "{1,2,3}"
      ],
      "execution_count": 78,
      "outputs": [
        {
          "output_type": "execute_result",
          "data": {
            "text/plain": [
              "{1, 2, 3}"
            ]
          },
          "metadata": {
            "tags": []
          },
          "execution_count": 78
        }
      ]
    },
    {
      "metadata": {
        "id": "Nzv2f1lZMZgJ",
        "colab_type": "code",
        "colab": {
          "base_uri": "https://localhost:8080/",
          "height": 34
        },
        "outputId": "24805dc0-9eed-44d1-c1dd-8da2767bae96"
      },
      "cell_type": "code",
      "source": [
        "{1,2,3,1,2,1,2,3,3,3,3,2,2,2,1,1,2}"
      ],
      "execution_count": 28,
      "outputs": [
        {
          "output_type": "execute_result",
          "data": {
            "text/plain": [
              "{1, 2, 3}"
            ]
          },
          "metadata": {
            "tags": []
          },
          "execution_count": 28
        }
      ]
    },
    {
      "metadata": {
        "id": "3rs4TxNNw2K3",
        "colab_type": "code",
        "colab": {
          "base_uri": "https://localhost:8080/",
          "height": 51
        },
        "outputId": "f6b77fb4-234b-4270-a138-5e9f357cd53b"
      },
      "cell_type": "code",
      "source": [
        "s = set([1,2,3,1,2,1,2,3,3,3,3,2,2,2,1,1,2])\n",
        "print(s)\n",
        "s.add(5)\n",
        "s.add(5)\n",
        "s"
      ],
      "execution_count": 32,
      "outputs": [
        {
          "output_type": "stream",
          "text": [
            "{1, 2, 3}\n"
          ],
          "name": "stdout"
        },
        {
          "output_type": "execute_result",
          "data": {
            "text/plain": [
              "{1, 2, 3, 5}"
            ]
          },
          "metadata": {
            "tags": []
          },
          "execution_count": 32
        }
      ]
    },
    {
      "metadata": {
        "id": "JT-rjfVqMZgM",
        "colab_type": "text"
      },
      "cell_type": "markdown",
      "source": [
        "## Comparison Operators"
      ]
    },
    {
      "metadata": {
        "id": "-9vtpgSkMZgN",
        "colab_type": "code",
        "colab": {},
        "outputId": "95d904d0-552a-4d98-b05e-52e184902383"
      },
      "cell_type": "code",
      "source": [
        "1 > 2"
      ],
      "execution_count": 0,
      "outputs": [
        {
          "output_type": "execute_result",
          "data": {
            "text/plain": [
              "False"
            ]
          },
          "metadata": {
            "tags": []
          },
          "execution_count": 47
        }
      ]
    },
    {
      "metadata": {
        "id": "vHsHBkAbMZgP",
        "colab_type": "code",
        "colab": {},
        "outputId": "b9e3db1a-a854-426a-c8ff-ec60e5694648"
      },
      "cell_type": "code",
      "source": [
        "1 < 2"
      ],
      "execution_count": 0,
      "outputs": [
        {
          "output_type": "execute_result",
          "data": {
            "text/plain": [
              "True"
            ]
          },
          "metadata": {
            "tags": []
          },
          "execution_count": 48
        }
      ]
    },
    {
      "metadata": {
        "id": "myaB73nkMZgT",
        "colab_type": "code",
        "colab": {},
        "outputId": "251b6ef9-c21a-49ac-9655-a31d6a7a4227"
      },
      "cell_type": "code",
      "source": [
        "1 >= 1"
      ],
      "execution_count": 0,
      "outputs": [
        {
          "output_type": "execute_result",
          "data": {
            "text/plain": [
              "True"
            ]
          },
          "metadata": {
            "tags": []
          },
          "execution_count": 49
        }
      ]
    },
    {
      "metadata": {
        "id": "dJFxL3iqMZgX",
        "colab_type": "code",
        "colab": {},
        "outputId": "ce21c46d-badd-4c8c-b096-f43e59dd3c28"
      },
      "cell_type": "code",
      "source": [
        "\n",
        "'hi' == 'hi'"
      ],
      "execution_count": 0,
      "outputs": [
        {
          "output_type": "execute_result",
          "data": {
            "text/plain": [
              "True"
            ]
          },
          "metadata": {
            "tags": []
          },
          "execution_count": 50
        }
      ]
    },
    {
      "metadata": {
        "id": "1TINxhmdMZgZ",
        "colab_type": "code",
        "colab": {},
        "outputId": "177ab382-a10e-4316-b496-f5d75c680770"
      },
      "cell_type": "code",
      "source": [
        "1 == 1"
      ],
      "execution_count": 0,
      "outputs": [
        {
          "output_type": "execute_result",
          "data": {
            "text/plain": [
              "True"
            ]
          },
          "metadata": {
            "tags": []
          },
          "execution_count": 51
        }
      ]
    },
    {
      "metadata": {
        "id": "xpJ3zpsAMZgb",
        "colab_type": "code",
        "colab": {
          "base_uri": "https://localhost:8080/",
          "height": 34
        },
        "outputId": "fbbec0f8-44a6-4c1c-e5ce-a402de89a10e"
      },
      "cell_type": "code",
      "source": [
        "'hi' == 'bye'"
      ],
      "execution_count": 34,
      "outputs": [
        {
          "output_type": "execute_result",
          "data": {
            "text/plain": [
              "False"
            ]
          },
          "metadata": {
            "tags": []
          },
          "execution_count": 34
        }
      ]
    },
    {
      "metadata": {
        "id": "_rpP_SsjMZgd",
        "colab_type": "text"
      },
      "cell_type": "markdown",
      "source": [
        "## Logic Operators"
      ]
    },
    {
      "metadata": {
        "id": "HpGfV4ZhMZge",
        "colab_type": "code",
        "colab": {
          "base_uri": "https://localhost:8080/",
          "height": 34
        },
        "outputId": "cb27cad3-0f67-406a-a5e6-cbcbdb8554a3"
      },
      "cell_type": "code",
      "source": [
        "# add (  )  more readable\n",
        "(1 > 2) and (2 < 3)"
      ],
      "execution_count": 85,
      "outputs": [
        {
          "output_type": "execute_result",
          "data": {
            "text/plain": [
              "False"
            ]
          },
          "metadata": {
            "tags": []
          },
          "execution_count": 85
        }
      ]
    },
    {
      "metadata": {
        "id": "8kEn-iT2MZgi",
        "colab_type": "code",
        "colab": {},
        "outputId": "643c1eb6-f7d1-4a6c-b725-d2bda355febe"
      },
      "cell_type": "code",
      "source": [
        "(1 > 2) or (2 < 3)"
      ],
      "execution_count": 0,
      "outputs": [
        {
          "output_type": "execute_result",
          "data": {
            "text/plain": [
              "True"
            ]
          },
          "metadata": {
            "tags": []
          },
          "execution_count": 54
        }
      ]
    },
    {
      "metadata": {
        "id": "GRTP4tx8MZgj",
        "colab_type": "code",
        "colab": {},
        "outputId": "f201bf0e-3482-41e0-b17c-ea3aa25e9794"
      },
      "cell_type": "code",
      "source": [
        "(1 == 2) or (2 == 3) or (4 == 4)"
      ],
      "execution_count": 0,
      "outputs": [
        {
          "output_type": "execute_result",
          "data": {
            "text/plain": [
              "True"
            ]
          },
          "metadata": {
            "tags": []
          },
          "execution_count": 55
        }
      ]
    },
    {
      "metadata": {
        "id": "WKq9JsuHMZgl",
        "colab_type": "text"
      },
      "cell_type": "markdown",
      "source": [
        "## if,elif, else Statements\n",
        "\n",
        "if XXx:\n",
        "       XXX\n",
        "elif  xxxxx:\n",
        "       xxxxxx\n",
        "else:\n",
        "       xxxxxxxx\n",
        " "
      ]
    },
    {
      "metadata": {
        "id": "YQvE6ugQMZgl",
        "colab_type": "code",
        "colab": {
          "base_uri": "https://localhost:8080/",
          "height": 102
        },
        "outputId": "d92044f8-bcc1-4903-97ff-3e2b097a3361"
      },
      "cell_type": "code",
      "source": [
        "if 1 < 2:\n",
        "    print('Yep!')\n",
        "\n",
        "if 1 < 2:\n",
        "    print('yep!')\n",
        "    \n",
        "if 1 < 2:\n",
        "    print('first')\n",
        "else:\n",
        "    print('last')\n",
        "    \n",
        "    \n",
        "    \n",
        "if 1 == 2:\n",
        "    print('first')\n",
        "elif 3 == 3:\n",
        "    print('middle')\n",
        "else:\n",
        "    print('Last')\n",
        "    \n",
        "    "
      ],
      "execution_count": 39,
      "outputs": [
        {
          "output_type": "stream",
          "text": [
            "Yep!\n",
            "yep!\n",
            "first\n",
            "middle\n",
            "true\n"
          ],
          "name": "stdout"
        }
      ]
    },
    {
      "metadata": {
        "id": "fbg7WSwsMZgu",
        "colab_type": "text"
      },
      "cell_type": "markdown",
      "source": [
        "## Loops :   for  and while\n"
      ]
    },
    {
      "metadata": {
        "id": "rhFvSCiTMZgu",
        "colab_type": "code",
        "colab": {}
      },
      "cell_type": "code",
      "source": [
        "list_for_loop = [1,2,3,4,5]"
      ],
      "execution_count": 0,
      "outputs": []
    },
    {
      "metadata": {
        "id": "EB2tLAiAMZgv",
        "colab_type": "code",
        "colab": {
          "base_uri": "https://localhost:8080/",
          "height": 187
        },
        "outputId": "df2c6d3a-1318-4e1e-df8d-278bb00a230d"
      },
      "cell_type": "code",
      "source": [
        "for item in list:\n",
        "    print(item)\n",
        "    print(item * 2)"
      ],
      "execution_count": 75,
      "outputs": [
        {
          "output_type": "stream",
          "text": [
            "1\n",
            "2\n",
            "2\n",
            "4\n",
            "3\n",
            "6\n",
            "4\n",
            "8\n",
            "5\n",
            "10\n"
          ],
          "name": "stdout"
        }
      ]
    },
    {
      "metadata": {
        "id": "2eg-ukc4MZg2",
        "colab_type": "code",
        "colab": {
          "base_uri": "https://localhost:8080/",
          "height": 102
        },
        "outputId": "739f2f6b-c760-4185-d72f-342510e0e613"
      },
      "cell_type": "code",
      "source": [
        "for jelly in seq:\n",
        "    print(jelly+jelly)"
      ],
      "execution_count": 76,
      "outputs": [
        {
          "output_type": "stream",
          "text": [
            "2\n",
            "4\n",
            "6\n",
            "8\n",
            "10\n"
          ],
          "name": "stdout"
        }
      ]
    },
    {
      "metadata": {
        "id": "MdAN27TpMZg4",
        "colab_type": "code",
        "colab": {
          "base_uri": "https://localhost:8080/",
          "height": 85
        },
        "outputId": "10ae4867-3655-4683-8bc5-efe2dcd69b61"
      },
      "cell_type": "code",
      "source": [
        "i = 1\n",
        "while i < 5:\n",
        "    print('i is: {}'.format(i))\n",
        "    i = i+1"
      ],
      "execution_count": 77,
      "outputs": [
        {
          "output_type": "stream",
          "text": [
            "i is: 1\n",
            "i is: 2\n",
            "i is: 3\n",
            "i is: 4\n"
          ],
          "name": "stdout"
        }
      ]
    },
    {
      "metadata": {
        "id": "jwcRbzZNMZg6",
        "colab_type": "text"
      },
      "cell_type": "markdown",
      "source": [
        "## range()\n",
        "range([start], stop[, step])"
      ]
    },
    {
      "metadata": {
        "id": "-S0pKUA7MZg7",
        "colab_type": "code",
        "colab": {
          "base_uri": "https://localhost:8080/",
          "height": 34
        },
        "outputId": "fa1832fb-4bd7-4044-cac9-7fcaeccb32c4"
      },
      "cell_type": "code",
      "source": [
        "#Somewhere you've assigned an actual list instance to the name list, shadowing the built-in; don't do that!\n",
        "#If you are in a interactive session and don't want to restart you can remove the shadowing with\n",
        "#del list\n",
        "list_range =list(range(0, 5))\n",
        "list_range"
      ],
      "execution_count": 83,
      "outputs": [
        {
          "output_type": "execute_result",
          "data": {
            "text/plain": [
              "[0, 1, 2, 3, 4]"
            ]
          },
          "metadata": {
            "tags": []
          },
          "execution_count": 83
        }
      ]
    },
    {
      "metadata": {
        "id": "Xa8MN-jPMZg9",
        "colab_type": "code",
        "colab": {
          "base_uri": "https://localhost:8080/",
          "height": 85
        },
        "outputId": "a9d91b8b-04e7-48a3-9327-915b9a75ace0"
      },
      "cell_type": "code",
      "source": [
        "for i in range(0, 7, 2):\n",
        "    print(i)"
      ],
      "execution_count": 79,
      "outputs": [
        {
          "output_type": "stream",
          "text": [
            "0\n",
            "2\n",
            "4\n",
            "6\n"
          ],
          "name": "stdout"
        }
      ]
    },
    {
      "metadata": {
        "id": "G00f5ViuMZhB",
        "colab_type": "text"
      },
      "cell_type": "markdown",
      "source": [
        "## list advanced usage\n"
      ]
    },
    {
      "metadata": {
        "id": "8XOvthwaMZhG",
        "colab_type": "code",
        "colab": {
          "base_uri": "https://localhost:8080/",
          "height": 51
        },
        "outputId": "33885df7-9074-426a-f3f5-728192f9a1c6"
      },
      "cell_type": "code",
      "source": [
        "# list.append   add element to a list\n",
        "x = list(range(0, 5))\n",
        "out = []\n",
        "for item in x:\n",
        "    out.append(item**2)   #power\n",
        "print(out)"
      ],
      "execution_count": 84,
      "outputs": [
        {
          "output_type": "stream",
          "text": [
            "[0, 1, 4, 9, 16]\n",
            "<class 'list'>\n"
          ],
          "name": "stdout"
        }
      ]
    },
    {
      "metadata": {
        "id": "yFmBQSm6MZhG",
        "colab_type": "code",
        "colab": {
          "base_uri": "https://localhost:8080/",
          "height": 34
        },
        "outputId": "6ec590e1-e219-4845-d721-1a61c7efd2b6"
      },
      "cell_type": "code",
      "source": [
        "[value * 2 for value in x]"
      ],
      "execution_count": 86,
      "outputs": [
        {
          "output_type": "execute_result",
          "data": {
            "text/plain": [
              "[0, 2, 4, 6, 8]"
            ]
          },
          "metadata": {
            "tags": []
          },
          "execution_count": 86
        }
      ]
    },
    {
      "metadata": {
        "id": "_2zgX4yOMZhJ",
        "colab_type": "text"
      },
      "cell_type": "markdown",
      "source": [
        "## functions"
      ]
    },
    {
      "metadata": {
        "id": "6RUaB4AHMZhM",
        "colab_type": "code",
        "colab": {}
      },
      "cell_type": "code",
      "source": [
        "  \n",
        "    \n",
        "def print_string(param2='default'):   #set default parameter value\n",
        "    \"\"\"\n",
        "    print string set default value.\n",
        "    \"\"\"\n",
        "    \n",
        "    param2 = 'reset'\n",
        "    print(param2+ ' hi')"
      ],
      "execution_count": 0,
      "outputs": []
    },
    {
      "metadata": {
        "id": "ZZvkknzbMZhO",
        "colab_type": "code",
        "colab": {
          "base_uri": "https://localhost:8080/",
          "height": 51
        },
        "outputId": "f500fd60-e81a-494f-da2e-ef49d2482484"
      },
      "cell_type": "code",
      "source": [
        "param = 'Ann'\n",
        "print_string(param+' hi')\n",
        "print(param)"
      ],
      "execution_count": 2,
      "outputs": [
        {
          "output_type": "stream",
          "text": [
            "reset hi\n",
            "Ann\n"
          ],
          "name": "stdout"
        }
      ]
    },
    {
      "metadata": {
        "id": "H9fsJhlsMZhQ",
        "colab_type": "code",
        "colab": {}
      },
      "cell_type": "code",
      "source": [
        "# function with default value\n",
        "def square(x):\n",
        "    return x**2"
      ],
      "execution_count": 0,
      "outputs": []
    },
    {
      "metadata": {
        "id": "JZtJ9vc9MZhR",
        "colab_type": "code",
        "colab": {}
      },
      "cell_type": "code",
      "source": [
        "out = square(5)"
      ],
      "execution_count": 0,
      "outputs": []
    },
    {
      "metadata": {
        "scrolled": true,
        "id": "Y-g3gJJiMZhS",
        "colab_type": "code",
        "colab": {
          "base_uri": "https://localhost:8080/",
          "height": 34
        },
        "outputId": "9a013278-21a5-4c2b-933c-fd45687fef3c"
      },
      "cell_type": "code",
      "source": [
        "print(out)"
      ],
      "execution_count": 5,
      "outputs": [
        {
          "output_type": "stream",
          "text": [
            "25\n"
          ],
          "name": "stdout"
        }
      ]
    },
    {
      "metadata": {
        "id": "ca3DJ2D87gWu",
        "colab_type": "code",
        "colab": {
          "base_uri": "https://localhost:8080/",
          "height": 34
        },
        "outputId": "3c9cf7de-fd07-45b8-c7a9-b7942a6dad1f"
      },
      "cell_type": "code",
      "source": [
        "def square_with_default(x=1):\n",
        "    return x**2\n",
        "  \n",
        "  \n",
        "  \n",
        "out2 = square_with_default()\n",
        "out2"
      ],
      "execution_count": 7,
      "outputs": [
        {
          "output_type": "execute_result",
          "data": {
            "text/plain": [
              "1"
            ]
          },
          "metadata": {
            "tags": []
          },
          "execution_count": 7
        }
      ]
    },
    {
      "metadata": {
        "id": "EHiIJYxkF3yJ",
        "colab_type": "code",
        "colab": {
          "base_uri": "https://localhost:8080/",
          "height": 34
        },
        "outputId": "79769d43-8c3f-4c53-a2e0-ca48c37b6147"
      },
      "cell_type": "code",
      "source": [
        "#map()\n",
        "seq = [1,2,3,4,5]\n",
        "map(square,seq_for_map)"
      ],
      "execution_count": 18,
      "outputs": [
        {
          "output_type": "execute_result",
          "data": {
            "text/plain": [
              "<map at 0x7f0be52b3780>"
            ]
          },
          "metadata": {
            "tags": []
          },
          "execution_count": 18
        }
      ]
    },
    {
      "metadata": {
        "id": "gHSmjN4sGNLe",
        "colab_type": "code",
        "colab": {
          "base_uri": "https://localhost:8080/",
          "height": 34
        },
        "outputId": "c084e928-d788-4bf6-8221-954b0276cc86"
      },
      "cell_type": "code",
      "source": [
        "list(map(square,seq_for_map))"
      ],
      "execution_count": 19,
      "outputs": [
        {
          "output_type": "execute_result",
          "data": {
            "text/plain": [
              "[1, 4, 9, 16, 25]"
            ]
          },
          "metadata": {
            "tags": []
          },
          "execution_count": 19
        }
      ]
    },
    {
      "metadata": {
        "id": "A2AGJ4DGGfZq",
        "colab_type": "code",
        "colab": {
          "base_uri": "https://localhost:8080/",
          "height": 34
        },
        "outputId": "53a54394-2784-44f9-ecbc-aeae4bf39202"
      },
      "cell_type": "code",
      "source": [
        "# Lamda expression  -- do not need defined function\n",
        "list(map(lambda num: num**2, seq))"
      ],
      "execution_count": 20,
      "outputs": [
        {
          "output_type": "execute_result",
          "data": {
            "text/plain": [
              "[1, 4, 9, 16, 25]"
            ]
          },
          "metadata": {
            "tags": []
          },
          "execution_count": 20
        }
      ]
    },
    {
      "metadata": {
        "id": "7UNtNWitMZha",
        "colab_type": "text"
      },
      "cell_type": "markdown",
      "source": [
        "## map and filter"
      ]
    },
    {
      "metadata": {
        "id": "sUMHodGUMZhh",
        "colab_type": "code",
        "colab": {
          "base_uri": "https://localhost:8080/",
          "height": 34
        },
        "outputId": "b05bb862-71b4-4a17-b1a8-e6502502bc4e"
      },
      "cell_type": "code",
      "source": [
        "list(filter(lambda item: item%2 == 0,seq))"
      ],
      "execution_count": 22,
      "outputs": [
        {
          "output_type": "execute_result",
          "data": {
            "text/plain": [
              "[2, 4]"
            ]
          },
          "metadata": {
            "tags": []
          },
          "execution_count": 22
        }
      ]
    },
    {
      "metadata": {
        "id": "Iu4LZ4HfMZhj",
        "colab_type": "text"
      },
      "cell_type": "markdown",
      "source": [
        "## String methods"
      ]
    },
    {
      "metadata": {
        "id": "huZ27AscMZhj",
        "colab_type": "code",
        "colab": {}
      },
      "cell_type": "code",
      "source": [
        "st = 'hello my name is Sam'"
      ],
      "execution_count": 0,
      "outputs": []
    },
    {
      "metadata": {
        "id": "iLeJfhc7MZhk",
        "colab_type": "code",
        "colab": {},
        "outputId": "e04a0843-2f93-4b30-898c-a4afae6c162c"
      },
      "cell_type": "code",
      "source": [
        "st.lower()"
      ],
      "execution_count": 0,
      "outputs": [
        {
          "output_type": "execute_result",
          "data": {
            "text/plain": [
              "'hello my name is sam'"
            ]
          },
          "metadata": {
            "tags": []
          },
          "execution_count": 112
        }
      ]
    },
    {
      "metadata": {
        "id": "S_GD5mnbMZhm",
        "colab_type": "code",
        "colab": {},
        "outputId": "656d15cb-8279-487f-f00e-f20fc90e5417"
      },
      "cell_type": "code",
      "source": [
        "st.upper()"
      ],
      "execution_count": 0,
      "outputs": [
        {
          "output_type": "execute_result",
          "data": {
            "text/plain": [
              "'HELLO MY NAME IS SAM'"
            ]
          },
          "metadata": {
            "tags": []
          },
          "execution_count": 113
        }
      ]
    },
    {
      "metadata": {
        "id": "_zaxyLK-MZhp",
        "colab_type": "code",
        "colab": {},
        "outputId": "1771b066-fbcc-412f-f3a6-096348417a36"
      },
      "cell_type": "code",
      "source": [
        "st.split()"
      ],
      "execution_count": 0,
      "outputs": [
        {
          "output_type": "execute_result",
          "data": {
            "text/plain": [
              "['hello', 'my', 'name', 'is', 'Sam']"
            ]
          },
          "metadata": {
            "tags": []
          },
          "execution_count": 103
        }
      ]
    },
    {
      "metadata": {
        "id": "DTIKI7YuMZhs",
        "colab_type": "code",
        "colab": {}
      },
      "cell_type": "code",
      "source": [
        "tweet = 'Go Sports! #Sports'"
      ],
      "execution_count": 0,
      "outputs": []
    },
    {
      "metadata": {
        "id": "CHbGtODiMZhs",
        "colab_type": "code",
        "colab": {},
        "outputId": "b820b90c-3487-4d0e-c258-73fefa5d4f28"
      },
      "cell_type": "code",
      "source": [
        "tweet.split('#')"
      ],
      "execution_count": 0,
      "outputs": [
        {
          "output_type": "execute_result",
          "data": {
            "text/plain": [
              "['Go Sports! ', 'Sports']"
            ]
          },
          "metadata": {
            "tags": []
          },
          "execution_count": 106
        }
      ]
    },
    {
      "metadata": {
        "id": "81y9V3fyMZht",
        "colab_type": "code",
        "colab": {},
        "outputId": "69b7df54-a0df-40ce-a259-30c051878c99"
      },
      "cell_type": "code",
      "source": [
        "tweet.split('#')[1]"
      ],
      "execution_count": 0,
      "outputs": [
        {
          "output_type": "execute_result",
          "data": {
            "text/plain": [
              "'Sports'"
            ]
          },
          "metadata": {
            "tags": []
          },
          "execution_count": 107
        }
      ]
    },
    {
      "metadata": {
        "id": "vZm588PLKAaf",
        "colab_type": "text"
      },
      "cell_type": "markdown",
      "source": [
        "## Dictionary methods"
      ]
    },
    {
      "metadata": {
        "id": "W3m5zqwnMZhv",
        "colab_type": "code",
        "colab": {}
      },
      "cell_type": "code",
      "source": [
        "d = {'k1':'item1','k2':'item2'}"
      ],
      "execution_count": 0,
      "outputs": []
    },
    {
      "metadata": {
        "id": "ECRNwjYHMZhv",
        "colab_type": "code",
        "colab": {
          "base_uri": "https://localhost:8080/",
          "height": 34
        },
        "outputId": "6a1e1506-ea70-4caf-8d5e-667c1e5a4098"
      },
      "cell_type": "code",
      "source": [
        "d.keys()"
      ],
      "execution_count": 25,
      "outputs": [
        {
          "output_type": "execute_result",
          "data": {
            "text/plain": [
              "dict_keys(['k1', 'k2'])"
            ]
          },
          "metadata": {
            "tags": []
          },
          "execution_count": 25
        }
      ]
    },
    {
      "metadata": {
        "id": "yj3f5luQMZhw",
        "colab_type": "code",
        "colab": {},
        "outputId": "5b8b8640-42a3-4b45-92c1-043515261274"
      },
      "cell_type": "code",
      "source": [
        "d.items()"
      ],
      "execution_count": 0,
      "outputs": [
        {
          "output_type": "execute_result",
          "data": {
            "text/plain": [
              "dict_items([('key2', 'item2'), ('key1', 'item1')])"
            ]
          },
          "metadata": {
            "tags": []
          },
          "execution_count": 94
        }
      ]
    },
    {
      "metadata": {
        "id": "nkCyq7tEKLFZ",
        "colab_type": "text"
      },
      "cell_type": "markdown",
      "source": [
        "## List methods"
      ]
    },
    {
      "metadata": {
        "id": "v0m9Q3wyMZhy",
        "colab_type": "code",
        "colab": {}
      },
      "cell_type": "code",
      "source": [
        "lst = [1,2,3]"
      ],
      "execution_count": 0,
      "outputs": []
    },
    {
      "metadata": {
        "id": "9sOPLHngMZhz",
        "colab_type": "code",
        "colab": {},
        "outputId": "48593874-937a-4426-a1fe-47da58829e10"
      },
      "cell_type": "code",
      "source": [
        "lst.pop()"
      ],
      "execution_count": 0,
      "outputs": [
        {
          "output_type": "execute_result",
          "data": {
            "text/plain": [
              "3"
            ]
          },
          "metadata": {
            "tags": []
          },
          "execution_count": 96
        }
      ]
    },
    {
      "metadata": {
        "id": "_idNThgrMZhz",
        "colab_type": "code",
        "colab": {},
        "outputId": "f39212ef-a0f4-467f-bf6b-ae25ead1c4f1"
      },
      "cell_type": "code",
      "source": [
        "lst"
      ],
      "execution_count": 0,
      "outputs": [
        {
          "output_type": "execute_result",
          "data": {
            "text/plain": [
              "[1, 2]"
            ]
          },
          "metadata": {
            "tags": []
          },
          "execution_count": 108
        }
      ]
    },
    {
      "metadata": {
        "id": "d7ilgTElMZh0",
        "colab_type": "code",
        "colab": {},
        "outputId": "27accf60-bd68-4489-a3de-88c3478ea35d"
      },
      "cell_type": "code",
      "source": [
        "'x' in [1,2,3]"
      ],
      "execution_count": 0,
      "outputs": [
        {
          "output_type": "execute_result",
          "data": {
            "text/plain": [
              "False"
            ]
          },
          "metadata": {
            "tags": []
          },
          "execution_count": 109
        }
      ]
    },
    {
      "metadata": {
        "id": "5nTJP6MpMZh1",
        "colab_type": "code",
        "colab": {},
        "outputId": "080692b3-ea68-4754-9d98-ee052508b8dc"
      },
      "cell_type": "code",
      "source": [
        "'x' in ['x','y','z']"
      ],
      "execution_count": 0,
      "outputs": [
        {
          "output_type": "execute_result",
          "data": {
            "text/plain": [
              "True"
            ]
          },
          "metadata": {
            "tags": []
          },
          "execution_count": 110
        }
      ]
    }
  ]
}